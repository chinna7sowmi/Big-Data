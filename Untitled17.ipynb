{
 "cells": [
  {
   "cell_type": "markdown",
   "id": "561a00c7",
   "metadata": {},
   "source": [
    "# List_remove_append\n",
    "Description: Remove SPSS from input_list=['SAS', 'R', 'PYTHON', 'SPSS'] and add 'SPARK'\n",
    "in its place."
   ]
  },
  {
   "cell_type": "code",
   "execution_count": 6,
   "id": "5cb52b93",
   "metadata": {},
   "outputs": [
    {
     "name": "stdout",
     "output_type": "stream",
     "text": [
      "['SAS', 'R', 'PYTHON']\n",
      "['SAS', 'R', 'PYTHON', 'SPARK']\n"
     ]
    }
   ],
   "source": [
    "input_list=['SAS','R','PYTHON','SPSS']\n",
    "input_list.pop()\n",
    "print(input_list)\n",
    "input_list.append('SPARK')\n",
    "print(input_list)"
   ]
  },
  {
   "cell_type": "markdown",
   "id": "870f0c10",
   "metadata": {},
   "source": [
    "# String to List Conversion:\n",
    "Description: Convert a string input_str='I Love Data Science & Python' to a list by splitting it on & .The sample output is \n",
    "    ['I Love Data Science ', 'Python']"
   ]
  },
  {
   "cell_type": "code",
   "execution_count": 9,
   "id": "8ee21c51",
   "metadata": {},
   "outputs": [
    {
     "name": "stdout",
     "output_type": "stream",
     "text": [
      "['I Love Data Science ', ' Python']\n"
     ]
    }
   ],
   "source": [
    "input_str='I Love Data Science & Python'\n",
    "list_1=input_str.split('&')\n",
    "print(list_1)"
   ]
  },
  {
   "cell_type": "markdown",
   "id": "86d8479b",
   "metadata": {},
   "source": [
    "# List to String conversion:\n",
    "Description:Convert a list ['Pythons syntax is easy to learn','Python syntax is very clear'] to a string using &.\n",
    "The sample output of the string should be\n",
    "\n",
    "\"Python syntax is easy to learn & Python syntax is very clear\"\n"
   ]
  },
  {
   "cell_type": "code",
   "execution_count": 16,
   "id": "d70ad570",
   "metadata": {},
   "outputs": [
    {
     "name": "stdout",
     "output_type": "stream",
     "text": [
      "Python syntax is easy to learn  &  Python syntax is very clear\n"
     ]
    }
   ],
   "source": [
    "input_list=[\"Python syntax is easy to learn \",\" Python syntax is very clear\"]\n",
    "input_str=\" & \".join(map(str,input_list))\n",
    "print(input_str)"
   ]
  },
  {
   "cell_type": "markdown",
   "id": "e462c782",
   "metadata": {},
   "source": [
    "# Nested List\n",
    "Description: Extract Python from a nested list\n",
    "input_list = [['SAS','R'],['Tableau','SQL'],['Python','Java']]"
   ]
  },
  {
   "cell_type": "code",
   "execution_count": 17,
   "id": "40c20a83",
   "metadata": {},
   "outputs": [
    {
     "data": {
      "text/plain": [
       "'Python'"
      ]
     },
     "execution_count": 17,
     "metadata": {},
     "output_type": "execute_result"
    }
   ],
   "source": [
    "input_list = [['SAS','R'],['Tableau','SQL'],['Python','Java']]\n",
    "input_list[2][0]"
   ]
  },
  {
   "cell_type": "markdown",
   "id": "1e11fef8",
   "metadata": {},
   "source": [
    "# It’s the time to disco\n",
    "Description: t = (\"disco\", 12, 4.5)\n",
    "What is the output of: t[0][2]"
   ]
  },
  {
   "cell_type": "markdown",
   "id": "8a416aba",
   "metadata": {},
   "source": [
    "# output is 's'"
   ]
  },
  {
   "cell_type": "markdown",
   "id": "f9d011b1",
   "metadata": {},
   "source": [
    "# String Palindrome\n",
    "Description: Write a program to check whether a string is a palindrome or not. Print 1 if\n",
    "the string is a palindrome and 0 otherwise.\n",
    "Input: Any string\n",
    "Output: 1 if the string is palindrome, 0 otherwise."
   ]
  },
  {
   "cell_type": "code",
   "execution_count": 22,
   "id": "8c230528",
   "metadata": {},
   "outputs": [
    {
     "name": "stdout",
     "output_type": "stream",
     "text": [
      "Enter your input String: anna\n",
      "1\n"
     ]
    }
   ],
   "source": [
    "def isPalindrome(s):\n",
    "    return s == s[::-1]\n",
    "\n",
    "\n",
    "\n",
    "s =input(\"Enter your input String: \")\n",
    "ans = isPalindrome(s)\n",
    "\n",
    "if ans:\n",
    "    print(1)\n",
    "else:\n",
    "    print(0)\n"
   ]
  },
  {
   "cell_type": "markdown",
   "id": "2f6b0627",
   "metadata": {},
   "source": [
    "# Reverse Words\n",
    "Description: You will be given a sentence in the form of a string. You have to reverse the\n",
    "order of the words in the sentence. Remember not to reverse the individual words, but\n",
    "the order of words. Check the sample input-output for further clarification.\n",
    "Input: A string, which will consist of a few spaces.\n",
    "Output: The words in reverse order"
   ]
  },
  {
   "cell_type": "code",
   "execution_count": 23,
   "id": "1290d3a1",
   "metadata": {},
   "outputs": [
    {
     "name": "stdout",
     "output_type": "stream",
     "text": [
      "Enter your input String:hello every one \n",
      " one every hello\n"
     ]
    }
   ],
   "source": [
    "s=input(\"Enter your input String:\")\n",
    "\n",
    "words = s.split(' ')\n",
    "reverse_string = ' '.join(reversed(words))\n",
    "print(reverse_string)\n",
    "\n"
   ]
  },
  {
   "cell_type": "markdown",
   "id": "4f814441",
   "metadata": {},
   "source": [
    "# String Formatting\n",
    "Description: Write a program that satisfies below examples\n",
    "Input 1: caloRie ConsuMed\n",
    "Output 1: calorie_consumed\n",
    "Input 2: data science\n",
    "Output 2: data_science\n",
    "Input 3: datascience\n",
    "Output 3: datascience"
   ]
  },
  {
   "cell_type": "code",
   "execution_count": 29,
   "id": "05c46105",
   "metadata": {},
   "outputs": [
    {
     "name": "stdout",
     "output_type": "stream",
     "text": [
      "calorie_consumed\n",
      "data_science\n",
      "datascience\n"
     ]
    }
   ],
   "source": [
    "input_1=\"caloRie ConsuMed\"\n",
    "input_2=\"data science\"\n",
    "input_3=\"datascience\"\n",
    "\n",
    "output_1=input_1.lower().replace(' ','_')\n",
    "print(output_1)\n",
    "output_2=input_2.replace(' ','_')\n",
    "print(output_2)\n",
    "output_3=input_3\n",
    "print(output_3)"
   ]
  },
  {
   "cell_type": "markdown",
   "id": "e1e51023",
   "metadata": {},
   "source": [
    "# Multiple Choice Questions"
   ]
  },
  {
   "cell_type": "markdown",
   "id": "eaf5c4c2",
   "metadata": {},
   "source": [
    "# 1. How will you extract ‘love’ from the string S = “I love Python”? (More than one\n",
    "option may be correct.).\n",
    "a. S[2:5]\n",
    "b. S[2:6]\n",
    "c. S[3:7]\n",
    "d. S[-11:-7]\n",
    "e. S[-11:-8]\n",
    "\n",
    "Answer is Option B"
   ]
  },
  {
   "cell_type": "markdown",
   "id": "a546be08",
   "metadata": {},
   "source": [
    "# 2. What will the output of 3 * 3 ** 3 be?\n",
    "a. 9\n",
    "b. 27\n",
    "c. 81\n",
    "d. 729\n",
    "\n",
    "Answer is Option C"
   ]
  },
  {
   "cell_type": "markdown",
   "id": "8c385163",
   "metadata": {},
   "source": [
    "# 3. What will the output be of ((500//7) % 5) ** 3?\n",
    "a. 1\n",
    "b. 2.91\n",
    "c. 71.42\n",
    "d. 0\n",
    "e. 8\n",
    "\n",
    "Answer is Option A"
   ]
  },
  {
   "cell_type": "markdown",
   "id": "b2fc65ef",
   "metadata": {},
   "source": [
    "# 4. If you have a tuple T = (3, 5, 7, 11), what will the output of T.append(9) be?\n",
    "a. (3, 5, 7, 9, 11)\n",
    "b. (9, 3, 5, 7, 11)\n",
    "c. (3, 5, 7, 11, 9)\n",
    "d. Error\n",
    "\n",
    "Answer is Option D"
   ]
  },
  {
   "cell_type": "markdown",
   "id": "fc45bacc",
   "metadata": {},
   "source": [
    "# 5.Question number 5 code is not not in the question bank only options are available so i cant able to do this question."
   ]
  },
  {
   "cell_type": "markdown",
   "id": "bb4bcff3",
   "metadata": {},
   "source": [
    "# 6.What will be the output of the following code?\n",
    "code:-\n",
    "l=[32,34,12,27,33]\n",
    "l.append((14,19))\n",
    "print(len(l))\n",
    "\n",
    "a.5\n",
    "b.6\n",
    "c.7\n",
    "d.The code will through an error\n",
    "\n",
    "Answer is Option B"
   ]
  },
  {
   "cell_type": "markdown",
   "id": "4eea7056",
   "metadata": {},
   "source": [
    "# 7. Which of the following statements is incorrect regarding sets in Python?\n",
    "a. Sets do not contain duplicate elements\n",
    "b. Sets are represented using curly braces {}\n",
    "c. Sets are immutable\n",
    "d. All of the above\n",
    "\n",
    "Answer is Option C"
   ]
  },
  {
   "cell_type": "markdown",
   "id": "684e0783",
   "metadata": {},
   "source": [
    "# 8.What will be the output of the following code?\n",
    "\n",
    "D={1:['Raj',22],2:['Simram',21],3:['Rahul',40]}\n",
    "for val in D:\n",
    "    print(val)\n",
    "    \n",
    "    \n",
    "a:1\n",
    "  2\n",
    "  3\n",
    "b:['Raj',22]\n",
    "  ['Simram',21]\n",
    "  ['Rahul',40]\n",
    "c:1['Raj',22]\n",
    "  2['Simram',21]\n",
    "  3['Rahul',40]\n",
    "d:Raj\n",
    "  Simram\n",
    "  Rahul\n",
    "    \n",
    "Answer is option A"
   ]
  },
  {
   "cell_type": "markdown",
   "id": "e9a966fc",
   "metadata": {},
   "source": [
    "# 9.What will be the comprehension equivalent be for the following snippet of code?\n",
    "\n",
    "for sentance in paragraph:\n",
    "    for words in sentence:\n",
    "        single_word_list.append(words)\n",
    "\n",
    "a. word for sentence in paragraph for word in sentence.split()\n",
    "b. [word for sentence in paragraph for word in sentence.split()]\n",
    "c. word for word in sentence.split() for sentence in paragraph\n",
    "d. [word for word in sentence.split() for sentence in paragraph]\n",
    "\n",
    "Answer is Option D"
   ]
  },
  {
   "cell_type": "markdown",
   "id": "0a08a28e",
   "metadata": {},
   "source": [
    "# 10.what will be the output of this code?\n",
    "\n",
    "print(list[range(10,1,-1)])\n",
    "\n",
    "a. [10, 9, 8, 7, 6, 5, 4, 3, 2, 1]\n",
    "b. [9, 8, 7, 6, 5, 4, 3, 2]\n",
    "c. [9, 8, 7, 6, 5, 4, 3, 2, 1]\n",
    "d. [10, 9, 8, 7, 6, 5, 4, 3, 2]\n",
    "\n",
    "Answer is Option D"
   ]
  },
  {
   "cell_type": "code",
   "execution_count": null,
   "id": "cfa02ec1",
   "metadata": {},
   "outputs": [],
   "source": []
  },
  {
   "cell_type": "code",
   "execution_count": null,
   "id": "71f6f6a5",
   "metadata": {},
   "outputs": [],
   "source": []
  }
 ],
 "metadata": {
  "kernelspec": {
   "display_name": "Python 3 (ipykernel)",
   "language": "python",
   "name": "python3"
  },
  "language_info": {
   "codemirror_mode": {
    "name": "ipython",
    "version": 3
   },
   "file_extension": ".py",
   "mimetype": "text/x-python",
   "name": "python",
   "nbconvert_exporter": "python",
   "pygments_lexer": "ipython3",
   "version": "3.9.7"
  }
 },
 "nbformat": 4,
 "nbformat_minor": 5
}
